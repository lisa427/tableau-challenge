{
 "cells": [
  {
   "cell_type": "code",
   "execution_count": 13,
   "metadata": {},
   "outputs": [],
   "source": [
    "import glob\n",
    "import pandas as pd"
   ]
  },
  {
   "cell_type": "code",
   "execution_count": 29,
   "metadata": {},
   "outputs": [
    {
     "name": "stdout",
     "output_type": "stream",
     "text": [
      "Successfully created dataframe for data/2019/201902-citibike-tripdata.csv with shape (943744, 15)\n",
      "Successfully created dataframe for data/2019/201908-citibike-tripdata.csv with shape (2344224, 15)\n",
      "Successfully created dataframe for data/2019/201906-citibike-tripdata.csv with shape (2125370, 15)\n",
      "Successfully created dataframe for data/2019/201910-citibike-tripdata.csv with shape (2092573, 15)\n",
      "Successfully created dataframe for data/2019/201904-citibike-tripdata.csv with shape (1766094, 15)\n",
      "Successfully created dataframe for data/2019/201912-citibike-tripdata.csv with shape (955210, 15)\n",
      "Successfully created dataframe for data/2019/201903-citibike-tripdata.csv with shape (1327960, 15)\n",
      "Successfully created dataframe for data/2019/201901-citibike-tripdata.csv with shape (967287, 15)\n",
      "Successfully created dataframe for data/2019/201909-citibike-tripdata.csv with shape (2444900, 15)\n",
      "Successfully created dataframe for data/2019/201911-citibike-tripdata.csv with shape (1478708, 15)\n",
      "Successfully created dataframe for data/2019/201907-citibike-tripdata.csv with shape (2181064, 15)\n",
      "Successfully created dataframe for data/2019/201905-citibike-tripdata.csv with shape (1924563, 15)\n",
      "(20551697, 15)\n"
     ]
    },
    {
     "data": {
      "text/html": [
       "<div>\n",
       "<style scoped>\n",
       "    .dataframe tbody tr th:only-of-type {\n",
       "        vertical-align: middle;\n",
       "    }\n",
       "\n",
       "    .dataframe tbody tr th {\n",
       "        vertical-align: top;\n",
       "    }\n",
       "\n",
       "    .dataframe thead th {\n",
       "        text-align: right;\n",
       "    }\n",
       "</style>\n",
       "<table border=\"1\" class=\"dataframe\">\n",
       "  <thead>\n",
       "    <tr style=\"text-align: right;\">\n",
       "      <th></th>\n",
       "      <th>Trip Duration</th>\n",
       "      <th>Start Time</th>\n",
       "      <th>Stop Time</th>\n",
       "      <th>Start Station ID</th>\n",
       "      <th>Start Station Name</th>\n",
       "      <th>Start Station Lat</th>\n",
       "      <th>Start Station Lng</th>\n",
       "      <th>End Station ID</th>\n",
       "      <th>End Station Name</th>\n",
       "      <th>End Station Lat</th>\n",
       "      <th>End Station Lng</th>\n",
       "      <th>Bike ID</th>\n",
       "      <th>User Type</th>\n",
       "      <th>Birth Year</th>\n",
       "      <th>Gender</th>\n",
       "    </tr>\n",
       "  </thead>\n",
       "  <tbody>\n",
       "    <tr>\n",
       "      <th>0</th>\n",
       "      <td>219</td>\n",
       "      <td>2019-02-01 00:00:06.2570</td>\n",
       "      <td>2019-02-01 00:03:46.1090</td>\n",
       "      <td>3494.0</td>\n",
       "      <td>E 115 St &amp; Lexington Ave</td>\n",
       "      <td>40.797911</td>\n",
       "      <td>-73.942300</td>\n",
       "      <td>3501.0</td>\n",
       "      <td>E 118 St &amp; Madison Ave</td>\n",
       "      <td>40.801487</td>\n",
       "      <td>-73.944251</td>\n",
       "      <td>33450</td>\n",
       "      <td>Subscriber</td>\n",
       "      <td>1989</td>\n",
       "      <td>1</td>\n",
       "    </tr>\n",
       "    <tr>\n",
       "      <th>1</th>\n",
       "      <td>143</td>\n",
       "      <td>2019-02-01 00:00:28.0320</td>\n",
       "      <td>2019-02-01 00:02:51.7460</td>\n",
       "      <td>438.0</td>\n",
       "      <td>St Marks Pl &amp; 1 Ave</td>\n",
       "      <td>40.727791</td>\n",
       "      <td>-73.985649</td>\n",
       "      <td>236.0</td>\n",
       "      <td>St Marks Pl &amp; 2 Ave</td>\n",
       "      <td>40.728419</td>\n",
       "      <td>-73.987140</td>\n",
       "      <td>25626</td>\n",
       "      <td>Subscriber</td>\n",
       "      <td>1990</td>\n",
       "      <td>1</td>\n",
       "    </tr>\n",
       "    <tr>\n",
       "      <th>2</th>\n",
       "      <td>296</td>\n",
       "      <td>2019-02-01 00:01:13.9870</td>\n",
       "      <td>2019-02-01 00:06:10.7340</td>\n",
       "      <td>3571.0</td>\n",
       "      <td>Bedford Ave &amp; Bergen St</td>\n",
       "      <td>40.676368</td>\n",
       "      <td>-73.952918</td>\n",
       "      <td>3549.0</td>\n",
       "      <td>Grand Ave &amp; Bergen St</td>\n",
       "      <td>40.678045</td>\n",
       "      <td>-73.962408</td>\n",
       "      <td>35568</td>\n",
       "      <td>Subscriber</td>\n",
       "      <td>1987</td>\n",
       "      <td>1</td>\n",
       "    </tr>\n",
       "    <tr>\n",
       "      <th>3</th>\n",
       "      <td>478</td>\n",
       "      <td>2019-02-01 00:01:14.1520</td>\n",
       "      <td>2019-02-01 00:09:12.7870</td>\n",
       "      <td>167.0</td>\n",
       "      <td>E 39 St &amp; 3 Ave</td>\n",
       "      <td>40.748901</td>\n",
       "      <td>-73.976049</td>\n",
       "      <td>477.0</td>\n",
       "      <td>W 41 St &amp; 8 Ave</td>\n",
       "      <td>40.756405</td>\n",
       "      <td>-73.990026</td>\n",
       "      <td>25045</td>\n",
       "      <td>Subscriber</td>\n",
       "      <td>1964</td>\n",
       "      <td>2</td>\n",
       "    </tr>\n",
       "    <tr>\n",
       "      <th>4</th>\n",
       "      <td>225</td>\n",
       "      <td>2019-02-01 00:01:49.3410</td>\n",
       "      <td>2019-02-01 00:05:34.4980</td>\n",
       "      <td>3458.0</td>\n",
       "      <td>W 55 St &amp; 6 Ave</td>\n",
       "      <td>40.763094</td>\n",
       "      <td>-73.978350</td>\n",
       "      <td>3443.0</td>\n",
       "      <td>W 52 St &amp; 6 Ave</td>\n",
       "      <td>40.761330</td>\n",
       "      <td>-73.979820</td>\n",
       "      <td>34006</td>\n",
       "      <td>Subscriber</td>\n",
       "      <td>1979</td>\n",
       "      <td>1</td>\n",
       "    </tr>\n",
       "  </tbody>\n",
       "</table>\n",
       "</div>"
      ],
      "text/plain": [
       "   Trip Duration                Start Time                 Stop Time  \\\n",
       "0            219  2019-02-01 00:00:06.2570  2019-02-01 00:03:46.1090   \n",
       "1            143  2019-02-01 00:00:28.0320  2019-02-01 00:02:51.7460   \n",
       "2            296  2019-02-01 00:01:13.9870  2019-02-01 00:06:10.7340   \n",
       "3            478  2019-02-01 00:01:14.1520  2019-02-01 00:09:12.7870   \n",
       "4            225  2019-02-01 00:01:49.3410  2019-02-01 00:05:34.4980   \n",
       "\n",
       "   Start Station ID        Start Station Name  Start Station Lat  \\\n",
       "0            3494.0  E 115 St & Lexington Ave          40.797911   \n",
       "1             438.0       St Marks Pl & 1 Ave          40.727791   \n",
       "2            3571.0   Bedford Ave & Bergen St          40.676368   \n",
       "3             167.0           E 39 St & 3 Ave          40.748901   \n",
       "4            3458.0           W 55 St & 6 Ave          40.763094   \n",
       "\n",
       "   Start Station Lng  End Station ID        End Station Name  End Station Lat  \\\n",
       "0         -73.942300          3501.0  E 118 St & Madison Ave        40.801487   \n",
       "1         -73.985649           236.0     St Marks Pl & 2 Ave        40.728419   \n",
       "2         -73.952918          3549.0   Grand Ave & Bergen St        40.678045   \n",
       "3         -73.976049           477.0         W 41 St & 8 Ave        40.756405   \n",
       "4         -73.978350          3443.0         W 52 St & 6 Ave        40.761330   \n",
       "\n",
       "   End Station Lng  Bike ID   User Type  Birth Year  Gender  \n",
       "0       -73.944251    33450  Subscriber        1989       1  \n",
       "1       -73.987140    25626  Subscriber        1990       1  \n",
       "2       -73.962408    35568  Subscriber        1987       1  \n",
       "3       -73.990026    25045  Subscriber        1964       2  \n",
       "4       -73.979820    34006  Subscriber        1979       1  "
      ]
     },
     "execution_count": 29,
     "metadata": {},
     "output_type": "execute_result"
    }
   ],
   "source": [
    "path = 'data/2019'\n",
    "files = glob.glob(path + '/*.csv')\n",
    "\n",
    "# create empty list to store dataframes\n",
    "li = []\n",
    "\n",
    "# loop through list of files and read each one into a dataframe and append to list\n",
    "for f in files:\n",
    "    # read in csv\n",
    "    temp_df = pd.read_csv(f)\n",
    "    temp_df.columns = [\"Trip Duration\",\"Start Time\",\"Stop Time\",\"Start Station ID\",\"Start Station Name\", \\\n",
    "                       \"Start Station Lat\",\"Start Station Lng\",\"End Station ID\",\"End Station Name\", \\\n",
    "                       \"End Station Lat\",\"End Station Lng\",\"Bike ID\",\"User Type\",\"Birth Year\",\"Gender\"]\n",
    "    # append df to list\n",
    "    li.append(temp_df)\n",
    "    print(f'Successfully created dataframe for {f} with shape {temp_df.shape}')\n",
    "\n",
    "# concatenate our list of dataframes into one!\n",
    "bike_df = pd.concat(li, axis=0)\n",
    "print(bike_df.shape)\n",
    "bike_df.head()"
   ]
  },
  {
   "cell_type": "code",
   "execution_count": 30,
   "metadata": {},
   "outputs": [
    {
     "data": {
      "text/plain": [
       "(17679521, 15)"
      ]
     },
     "execution_count": 30,
     "metadata": {},
     "output_type": "execute_result"
    }
   ],
   "source": [
    "subscriber_df = bike_df[(bike_df[\"User Type\"] == \"Subscriber\")]\n",
    "subscriber_df.shape"
   ]
  },
  {
   "cell_type": "code",
   "execution_count": 31,
   "metadata": {},
   "outputs": [
    {
     "data": {
      "text/plain": [
       "(2872176, 15)"
      ]
     },
     "execution_count": 31,
     "metadata": {},
     "output_type": "execute_result"
    }
   ],
   "source": [
    "customer_df = bike_df[(bike_df[\"User Type\"] == \"Customer\")]\n",
    "customer_df.shape"
   ]
  },
  {
   "cell_type": "code",
   "execution_count": 27,
   "metadata": {},
   "outputs": [],
   "source": [
    "subscriber_df.to_csv( \"2019_subscriber.csv\", index=False, encoding='utf-8-sig')"
   ]
  },
  {
   "cell_type": "code",
   "execution_count": 28,
   "metadata": {},
   "outputs": [],
   "source": [
    "customer_df.to_csv( \"2019_customer.csv\", index=False, encoding='utf-8-sig')"
   ]
  },
  {
   "cell_type": "code",
   "execution_count": 16,
   "metadata": {},
   "outputs": [
    {
     "data": {
      "text/plain": [
       "Trip Duration            75704\n",
       "Start Time            69340301\n",
       "Stop Time             69362198\n",
       "Start Station ID          1391\n",
       "Start Station Name        1416\n",
       "Start Station Lat         1466\n",
       "Start Station Lng         1449\n",
       "End Station ID            1445\n",
       "End Station Name          1476\n",
       "End Station Lat           1522\n",
       "End Station Lng           1506\n",
       "Bike ID                  29704\n",
       "User Type                    2\n",
       "Birth Year                 130\n",
       "Gender                       3\n",
       "dtype: int64"
      ]
     },
     "execution_count": 16,
     "metadata": {},
     "output_type": "execute_result"
    }
   ],
   "source": [
    "bike_df.nunique()"
   ]
  },
  {
   "cell_type": "code",
   "execution_count": null,
   "metadata": {},
   "outputs": [],
   "source": []
  }
 ],
 "metadata": {
  "kernelspec": {
   "display_name": "Python [conda env:PythonData]",
   "language": "python",
   "name": "conda-env-PythonData-py"
  },
  "language_info": {
   "codemirror_mode": {
    "name": "ipython",
    "version": 3
   },
   "file_extension": ".py",
   "mimetype": "text/x-python",
   "name": "python",
   "nbconvert_exporter": "python",
   "pygments_lexer": "ipython3",
   "version": "3.6.10"
  }
 },
 "nbformat": 4,
 "nbformat_minor": 4
}
