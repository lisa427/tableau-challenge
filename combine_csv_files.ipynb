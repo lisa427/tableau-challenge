{
 "cells": [
  {
   "cell_type": "code",
   "execution_count": 1,
   "metadata": {},
   "outputs": [],
   "source": [
    "import glob\n",
    "import pandas as pd"
   ]
  },
  {
   "cell_type": "code",
   "execution_count": 2,
   "metadata": {},
   "outputs": [
    {
     "name": "stdout",
     "output_type": "stream",
     "text": [
      "Successfully created dataframe for data/2020/202006-citibike-tripdata.csv with shape (1882273, 15)\n",
      "Successfully created dataframe for data/2020/202010-citibike-tripdata.csv with shape (2248869, 15)\n",
      "Successfully created dataframe for data/2020/202004-citibike-tripdata.csv with shape (682762, 15)\n",
      "Successfully created dataframe for data/2020/202012-citibike-tripdata.csv with shape (1088929, 15)\n",
      "Successfully created dataframe for data/2020/202002-citibike-tripdata.csv with shape (1146830, 15)\n",
      "Successfully created dataframe for data/2020/202008-citibike-tripdata.csv with shape (2329514, 15)\n",
      "Successfully created dataframe for data/2020/202011-citibike-tripdata.csv with shape (1736704, 15)\n",
      "Successfully created dataframe for data/2020/202007-citibike-tripdata.csv with shape (2105808, 15)\n",
      "Successfully created dataframe for data/2020/202005-citibike-tripdata.csv with shape (1487890, 15)\n",
      "Successfully created dataframe for data/2020/202003-citibike-tripdata.csv with shape (1068457, 15)\n",
      "Successfully created dataframe for data/2020/202009-citibike-tripdata.csv with shape (2488225, 15)\n",
      "Successfully created dataframe for data/2020/202001-citibike-tripdata.csv with shape (1240596, 15)\n",
      "(19506857, 15)\n"
     ]
    },
    {
     "data": {
      "text/html": [
       "<div>\n",
       "<style scoped>\n",
       "    .dataframe tbody tr th:only-of-type {\n",
       "        vertical-align: middle;\n",
       "    }\n",
       "\n",
       "    .dataframe tbody tr th {\n",
       "        vertical-align: top;\n",
       "    }\n",
       "\n",
       "    .dataframe thead th {\n",
       "        text-align: right;\n",
       "    }\n",
       "</style>\n",
       "<table border=\"1\" class=\"dataframe\">\n",
       "  <thead>\n",
       "    <tr style=\"text-align: right;\">\n",
       "      <th></th>\n",
       "      <th>Trip Duration</th>\n",
       "      <th>Start Time</th>\n",
       "      <th>Stop Time</th>\n",
       "      <th>Start Station ID</th>\n",
       "      <th>Start Station Name</th>\n",
       "      <th>Start Station Lat</th>\n",
       "      <th>Start Station Lng</th>\n",
       "      <th>End Station ID</th>\n",
       "      <th>End Station Name</th>\n",
       "      <th>End Station Lat</th>\n",
       "      <th>End Station Lng</th>\n",
       "      <th>Bike ID</th>\n",
       "      <th>User Type</th>\n",
       "      <th>Birth Year</th>\n",
       "      <th>Gender</th>\n",
       "    </tr>\n",
       "  </thead>\n",
       "  <tbody>\n",
       "    <tr>\n",
       "      <th>0</th>\n",
       "      <td>1062</td>\n",
       "      <td>2020-06-01 00:00:03.3720</td>\n",
       "      <td>2020-06-01 00:17:46.2080</td>\n",
       "      <td>3419</td>\n",
       "      <td>Douglass St &amp; 4 Ave</td>\n",
       "      <td>40.679279</td>\n",
       "      <td>-73.981540</td>\n",
       "      <td>3419</td>\n",
       "      <td>Douglass St &amp; 4 Ave</td>\n",
       "      <td>40.679279</td>\n",
       "      <td>-73.981540</td>\n",
       "      <td>39852</td>\n",
       "      <td>Customer</td>\n",
       "      <td>1997</td>\n",
       "      <td>2</td>\n",
       "    </tr>\n",
       "    <tr>\n",
       "      <th>1</th>\n",
       "      <td>3810</td>\n",
       "      <td>2020-06-01 00:00:03.5530</td>\n",
       "      <td>2020-06-01 01:03:33.9360</td>\n",
       "      <td>366</td>\n",
       "      <td>Clinton Ave &amp; Myrtle Ave</td>\n",
       "      <td>40.693261</td>\n",
       "      <td>-73.968896</td>\n",
       "      <td>336</td>\n",
       "      <td>Sullivan St &amp; Washington Sq</td>\n",
       "      <td>40.730477</td>\n",
       "      <td>-73.999061</td>\n",
       "      <td>37558</td>\n",
       "      <td>Subscriber</td>\n",
       "      <td>1969</td>\n",
       "      <td>0</td>\n",
       "    </tr>\n",
       "    <tr>\n",
       "      <th>2</th>\n",
       "      <td>1017</td>\n",
       "      <td>2020-06-01 00:00:09.6140</td>\n",
       "      <td>2020-06-01 00:17:06.8330</td>\n",
       "      <td>389</td>\n",
       "      <td>Broadway &amp; Berry St</td>\n",
       "      <td>40.710446</td>\n",
       "      <td>-73.965251</td>\n",
       "      <td>3562</td>\n",
       "      <td>Classon Ave &amp; St Marks Ave</td>\n",
       "      <td>40.676520</td>\n",
       "      <td>-73.959608</td>\n",
       "      <td>37512</td>\n",
       "      <td>Customer</td>\n",
       "      <td>1988</td>\n",
       "      <td>2</td>\n",
       "    </tr>\n",
       "    <tr>\n",
       "      <th>3</th>\n",
       "      <td>226</td>\n",
       "      <td>2020-06-01 00:00:12.1780</td>\n",
       "      <td>2020-06-01 00:03:58.8640</td>\n",
       "      <td>3255</td>\n",
       "      <td>8 Ave &amp; W 31 St</td>\n",
       "      <td>40.750585</td>\n",
       "      <td>-73.994685</td>\n",
       "      <td>505</td>\n",
       "      <td>6 Ave &amp; W 33 St</td>\n",
       "      <td>40.749013</td>\n",
       "      <td>-73.988484</td>\n",
       "      <td>39674</td>\n",
       "      <td>Customer</td>\n",
       "      <td>1969</td>\n",
       "      <td>0</td>\n",
       "    </tr>\n",
       "    <tr>\n",
       "      <th>4</th>\n",
       "      <td>1437</td>\n",
       "      <td>2020-06-01 00:00:21.2550</td>\n",
       "      <td>2020-06-01 00:24:18.9650</td>\n",
       "      <td>367</td>\n",
       "      <td>E 53 St &amp; Lexington Ave</td>\n",
       "      <td>40.758281</td>\n",
       "      <td>-73.970694</td>\n",
       "      <td>497</td>\n",
       "      <td>E 17 St &amp; Broadway</td>\n",
       "      <td>40.737050</td>\n",
       "      <td>-73.990093</td>\n",
       "      <td>21093</td>\n",
       "      <td>Customer</td>\n",
       "      <td>1997</td>\n",
       "      <td>2</td>\n",
       "    </tr>\n",
       "  </tbody>\n",
       "</table>\n",
       "</div>"
      ],
      "text/plain": [
       "   Trip Duration                Start Time                 Stop Time  \\\n",
       "0           1062  2020-06-01 00:00:03.3720  2020-06-01 00:17:46.2080   \n",
       "1           3810  2020-06-01 00:00:03.5530  2020-06-01 01:03:33.9360   \n",
       "2           1017  2020-06-01 00:00:09.6140  2020-06-01 00:17:06.8330   \n",
       "3            226  2020-06-01 00:00:12.1780  2020-06-01 00:03:58.8640   \n",
       "4           1437  2020-06-01 00:00:21.2550  2020-06-01 00:24:18.9650   \n",
       "\n",
       "   Start Station ID        Start Station Name  Start Station Lat  \\\n",
       "0              3419       Douglass St & 4 Ave          40.679279   \n",
       "1               366  Clinton Ave & Myrtle Ave          40.693261   \n",
       "2               389       Broadway & Berry St          40.710446   \n",
       "3              3255           8 Ave & W 31 St          40.750585   \n",
       "4               367   E 53 St & Lexington Ave          40.758281   \n",
       "\n",
       "   Start Station Lng  End Station ID             End Station Name  \\\n",
       "0         -73.981540            3419          Douglass St & 4 Ave   \n",
       "1         -73.968896             336  Sullivan St & Washington Sq   \n",
       "2         -73.965251            3562   Classon Ave & St Marks Ave   \n",
       "3         -73.994685             505              6 Ave & W 33 St   \n",
       "4         -73.970694             497           E 17 St & Broadway   \n",
       "\n",
       "   End Station Lat  End Station Lng  Bike ID   User Type  Birth Year  Gender  \n",
       "0        40.679279       -73.981540    39852    Customer        1997       2  \n",
       "1        40.730477       -73.999061    37558  Subscriber        1969       0  \n",
       "2        40.676520       -73.959608    37512    Customer        1988       2  \n",
       "3        40.749013       -73.988484    39674    Customer        1969       0  \n",
       "4        40.737050       -73.990093    21093    Customer        1997       2  "
      ]
     },
     "execution_count": 2,
     "metadata": {},
     "output_type": "execute_result"
    }
   ],
   "source": [
    "path = 'data/2020'\n",
    "files = glob.glob(path + '/*.csv')\n",
    "\n",
    "# create empty list to store dataframes\n",
    "li = []\n",
    "\n",
    "# loop through list of files and read each one into a dataframe and append to list\n",
    "for f in files:\n",
    "    # read in csv\n",
    "    temp_df = pd.read_csv(f)\n",
    "    temp_df.columns = [\"Trip Duration\",\"Start Time\",\"Stop Time\",\"Start Station ID\",\"Start Station Name\", \\\n",
    "                       \"Start Station Lat\",\"Start Station Lng\",\"End Station ID\",\"End Station Name\", \\\n",
    "                       \"End Station Lat\",\"End Station Lng\",\"Bike ID\",\"User Type\",\"Birth Year\",\"Gender\"]\n",
    "    # append df to list\n",
    "    li.append(temp_df)\n",
    "    print(f'Successfully created dataframe for {f} with shape {temp_df.shape}')\n",
    "\n",
    "# concatenate our list of dataframes into one!\n",
    "bike_df = pd.concat(li, axis=0)\n",
    "print(bike_df.shape)\n",
    "bike_df.head()"
   ]
  },
  {
   "cell_type": "code",
   "execution_count": 3,
   "metadata": {},
   "outputs": [
    {
     "data": {
      "text/plain": [
       "(14955766, 15)"
      ]
     },
     "execution_count": 3,
     "metadata": {},
     "output_type": "execute_result"
    }
   ],
   "source": [
    "# filter by subscribers\n",
    "subscriber_df = bike_df[(bike_df[\"User Type\"] == \"Subscriber\")]\n",
    "subscriber_df.shape"
   ]
  },
  {
   "cell_type": "code",
   "execution_count": 4,
   "metadata": {},
   "outputs": [
    {
     "data": {
      "text/plain": [
       "(4551091, 15)"
      ]
     },
     "execution_count": 4,
     "metadata": {},
     "output_type": "execute_result"
    }
   ],
   "source": [
    "# filter by customers\n",
    "customer_df = bike_df[(bike_df[\"User Type\"] == \"Customer\")]\n",
    "customer_df.shape"
   ]
  },
  {
   "cell_type": "code",
   "execution_count": 27,
   "metadata": {},
   "outputs": [],
   "source": [
    "# save to csv\n",
    "subscriber_df.to_csv( \"2020_subscriber.csv\", index=False, encoding='utf-8-sig')"
   ]
  },
  {
   "cell_type": "code",
   "execution_count": 28,
   "metadata": {},
   "outputs": [],
   "source": [
    "# save to csv\n",
    "customer_df.to_csv( \"2020_customer.csv\", index=False, encoding='utf-8-sig')"
   ]
  }
 ],
 "metadata": {
  "kernelspec": {
   "display_name": "Python [conda env:PythonData]",
   "language": "python",
   "name": "conda-env-PythonData-py"
  },
  "language_info": {
   "codemirror_mode": {
    "name": "ipython",
    "version": 3
   },
   "file_extension": ".py",
   "mimetype": "text/x-python",
   "name": "python",
   "nbconvert_exporter": "python",
   "pygments_lexer": "ipython3",
   "version": "3.6.10"
  }
 },
 "nbformat": 4,
 "nbformat_minor": 4
}
